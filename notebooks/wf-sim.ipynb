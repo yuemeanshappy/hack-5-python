{
 "cells": [
  {
   "cell_type": "markdown",
   "id": "ca572b13",
   "metadata": {},
   "source": [
    "# Define a function to initialize the population"
   ]
  },
  {
   "cell_type": "markdown",
   "id": "3ea2dcf2",
   "metadata": {},
   "source": [
    "The first argument should be the size of the population in number of haploid individuals (N), and the second argument should be the frequency of derived alleles (f).\n",
    "with the proportion of 1s approximately equal to f"
   ]
  },
  {
   "cell_type": "code",
   "execution_count": 1,
   "id": "b75e213d",
   "metadata": {},
   "outputs": [],
   "source": [
    "def init (N, f):\n",
    "    \"\"\"\n",
    "    This function is to return a list of 0/1.\n",
    "    \"\"\"\n",
    "    num_of_1 = round(N*f)\n",
    "    num_of_0 = N - num_of_1\n",
    "    \n",
    "    return [0]*num_of_0 + [1]*num_of_1"
   ]
  },
  {
   "cell_type": "markdown",
   "id": "774b6ee6",
   "metadata": {},
   "source": [
    "# Define a function to perform one WF generation"
   ]
  },
  {
   "cell_type": "markdown",
   "id": "07746e7c",
   "metadata": {},
   "source": [
    "This function should return a new population of N individuals (the descendant population) with frequencies of 0s and 1s determined probabailisticly by the frequency of 0s and 1s in the ancestral pop."
   ]
  },
  {
   "cell_type": "code",
   "execution_count": 4,
   "id": "7d42343b",
   "metadata": {},
   "outputs": [],
   "source": [
    "import random"
   ]
  },
  {
   "cell_type": "code",
   "execution_count": 5,
   "id": "a9d0f4c3",
   "metadata": {},
   "outputs": [],
   "source": [
    "def step (pop):\n",
    "    return random.choices(population = pop, k = len(pop))"
   ]
  },
  {
   "cell_type": "markdown",
   "id": "38ac9223",
   "metadata": {},
   "source": [
    "# Define a wf() function to bring it all together¶"
   ]
  },
  {
   "cell_type": "code",
   "execution_count": 11,
   "id": "be9bfc97",
   "metadata": {},
   "outputs": [],
   "source": [
    "def wf(N, f, ngens):\n",
    "    # init a population\n",
    "    pop = init (N, f)\n",
    "    \n",
    "    # run it for ngens\n",
    "    for i in range(ngens):\n",
    "        new_gen=step(pop)\n",
    "    \n",
    "    # calculate the frequency of allele 1\n",
    "    nfreq = sum(new_gen)/len(new_gen)\n",
    "    \n",
    "    # return allel frequency and the number of generation\n",
    "    return print(f\"generations: {ngens}; freq(a): {nfreq}\")\n",
    "    "
   ]
  },
  {
   "cell_type": "code",
   "execution_count": 14,
   "id": "aa12237b",
   "metadata": {},
   "outputs": [
    {
     "name": "stdout",
     "output_type": "stream",
     "text": [
      "generations: 1000; freq(a): 0.8\n"
     ]
    }
   ],
   "source": [
    "wf(N=10, f=0.5, ngens=1000)"
   ]
  },
  {
   "cell_type": "markdown",
   "id": "b6d14764",
   "metadata": {},
   "source": [
    "1. Modify your wf() function to test for fixation or loss of allele 1. If allele 1 is fixed or lost, break the for loop early and modify the print statement to indicate this result in some way."
   ]
  },
  {
   "cell_type": "code",
   "execution_count": 41,
   "id": "9f3197ab",
   "metadata": {},
   "outputs": [],
   "source": [
    "def wf(N, f, ngens):\n",
    "    # init a population\n",
    "    pop = init (N, f)\n",
    "    \n",
    "    # run it for ngens\n",
    "    for i in range(ngens):\n",
    "        # generate the next generation of alleles\n",
    "        new_gen=step(pop)\n",
    "        \n",
    "        if sum(new_gen)== 0 or sum(new_gen) == len(new_gen): # if alleles are all 0 or are all 1\n",
    "            return print(f\"allele is fixed:{new_gen}\")\n",
    "            break\n",
    "        else:\n",
    "            continue\n",
    "    # calculate the frequency of allele 1\n",
    "    nfreq = sum(new_gen)/len(new_gen)\n",
    "    \n",
    "    # return allel frequency and the number of generation\n",
    "    return print(f\"generations: {ngens}; freq(a): {nfreq}\")"
   ]
  },
  {
   "cell_type": "code",
   "execution_count": 42,
   "id": "8f7dd7ac",
   "metadata": {},
   "outputs": [
    {
     "name": "stdout",
     "output_type": "stream",
     "text": [
      "allele is fixed:[0, 0, 0, 0, 0, 0, 0, 0, 0, 0]\n"
     ]
    }
   ],
   "source": [
    "wf(N=10, f=0.2, ngens=1000)"
   ]
  },
  {
   "cell_type": "code",
   "execution_count": 43,
   "id": "c275de9b",
   "metadata": {},
   "outputs": [
    {
     "name": "stdout",
     "output_type": "stream",
     "text": [
      "generations: 1000; freq(a): 0.22\n"
     ]
    }
   ],
   "source": [
    "wf(N=100, f=0.2, ngens=1000)"
   ]
  },
  {
   "cell_type": "markdown",
   "id": "d8f10edb",
   "metadata": {},
   "source": [
    "2. Track allele frequency through time. Create a new list inside the wf() function and use this list to accumulate allele frequency after each call to step() inside the for loop."
   ]
  },
  {
   "cell_type": "code",
   "execution_count": 90,
   "id": "5b5456f9",
   "metadata": {},
   "outputs": [],
   "source": [
    "def wf(N, f, ngens):\n",
    "    # init a population\n",
    "    pop = init (N, f)\n",
    "    \n",
    "    # track allele frequency\n",
    "    allele_freq = []\n",
    "    \n",
    "    # run it for ngens\n",
    "    for i in range(ngens):\n",
    "        # generate the next generation of alleles\n",
    "        new_gen=step(pop)\n",
    "        \n",
    "        # calculate the frequency of allele 1\n",
    "        nfreq = sum(new_gen)/len(new_gen)\n",
    "        \n",
    "        # add allele frequency to the list\n",
    "        allele_freq.append(nfreq)\n",
    "        \n",
    "        # break if allele_freq = 1\n",
    "        if nfreq == 1:\n",
    "            return allele_freq\n",
    "            break\n",
    "        else:\n",
    "            continue \n",
    "        \n",
    "    # return allel frequency and the number of generation\n",
    "    return allele_freq"
   ]
  },
  {
   "cell_type": "markdown",
   "id": "55928f50",
   "metadata": {},
   "source": [
    "3. Advanced: Wrap the wf() call inside an iterate_wf() function that calls wf many times. The goal is to test the expectation that the probability of fixation of the derived allele in WF equals the initial allele frequency (e.g. run wf(N=100, f=0.2, gens=1000) 100 times and record how many times allele 1 is fixed, then divide by 100. It should be ~0.2 in this example)."
   ]
  },
  {
   "cell_type": "code",
   "execution_count": 93,
   "id": "85c7638a",
   "metadata": {},
   "outputs": [],
   "source": [
    "def iterate_wf(N,f,ngens,niterate):\n",
    "    # initiate \n",
    "    num_fix=0\n",
    "    \n",
    "    # run multiple iterations\n",
    "    for i in range(niterate):\n",
    "        allele_freq = wf(N,f,ngens)\n",
    "    \n",
    "        # calcualte the probability of fixation of the derived allele\n",
    "        if allele_freq[-1]==1: # allele is fixed\n",
    "            num_fix +=1\n",
    "            \n",
    "    return num_fix/niterate\n",
    "        "
   ]
  },
  {
   "cell_type": "code",
   "execution_count": 145,
   "id": "15226744",
   "metadata": {},
   "outputs": [
    {
     "data": {
      "text/plain": [
       "0.0"
      ]
     },
     "execution_count": 145,
     "metadata": {},
     "output_type": "execute_result"
    }
   ],
   "source": [
    "iterate_wf(N=100, f = 0.2, ngens=1000, niterate=100)"
   ]
  },
  {
   "cell_type": "code",
   "execution_count": null,
   "id": "c5b26d0f",
   "metadata": {},
   "outputs": [],
   "source": []
  }
 ],
 "metadata": {
  "kernelspec": {
   "display_name": "Python 3 (ipykernel)",
   "language": "python",
   "name": "python3"
  },
  "language_info": {
   "codemirror_mode": {
    "name": "ipython",
    "version": 3
   },
   "file_extension": ".py",
   "mimetype": "text/x-python",
   "name": "python",
   "nbconvert_exporter": "python",
   "pygments_lexer": "ipython3",
   "version": "3.9.9"
  }
 },
 "nbformat": 4,
 "nbformat_minor": 5
}
