{
 "cells": [
  {
   "cell_type": "markdown",
   "metadata": {},
   "source": [
    "# Notebook 5.3: Session 5 challenges\n",
    "\n",
    "Here are more challenges to test your knowledge of variables, lists, and for loops."
   ]
  },
  {
   "cell_type": "markdown",
   "metadata": {},
   "source": [
    "### Challenges"
   ]
  },
  {
   "cell_type": "markdown",
   "metadata": {},
   "source": [
    "A. Create code that includes a loop which iterates over the a list of integers and prints the sum. Use\n",
    "this list as a test case [1, 5, 2, 6] and print the results in this form:\n",
    "```\n",
    "The sum of the numbers in the list is 14\n",
    "```\n",
    "\n",
    "Hint: Use the += operator, and a variable which is instantiated outside the loop, but modified inside it."
   ]
  },
  {
   "cell_type": "code",
   "execution_count": 2,
   "metadata": {},
   "outputs": [
    {
     "name": "stdout",
     "output_type": "stream",
     "text": [
      "The sum of the numbers in the list is 14\n"
     ]
    }
   ],
   "source": [
    "result = 0\n",
    "for number in [1,5,2,6]:\n",
    "    result += number\n",
    "print(f\"The sum of the numbers in the list is {result}\")"
   ]
  },
  {
   "cell_type": "markdown",
   "metadata": {},
   "source": [
    "B. Write python code to print the following DNA sequence pattern using a loop.\n",
    "```\n",
    "CATG\n",
    "CATGCATG\n",
    "CATGCATGCATG\n",
    "CATGCATGCATGCATG\n",
    "CATGCATGCATGCATGCATG\n",
    "```"
   ]
  },
  {
   "cell_type": "code",
   "execution_count": 45,
   "metadata": {},
   "outputs": [
    {
     "name": "stdout",
     "output_type": "stream",
     "text": [
      "CATG\n",
      "CATGCATG\n",
      "CATGCATGCATG\n",
      "CATGCATGCATGCATG\n",
      "CATGCATGCATGCATGCATG\n"
     ]
    }
   ],
   "source": [
    "seq = \"CATGCATGCATGCATGCATG\"\n",
    "for idx in range(4,24,4):\n",
    "    print(seq[0:idx])"
   ]
  },
  {
   "cell_type": "markdown",
   "metadata": {},
   "source": [
    "C. Create code with a nested loop based on the list of lists [[\"apple\", \"orange\"], [\"carrot\", \"cabbage\"], [\"chicken\", \"beef\"]] and produces the following output:\n",
    "```\n",
    "apple\n",
    "orange\n",
    "carrot\n",
    "cabbage\n",
    "chicken\n",
    "beef\n",
    "```"
   ]
  },
  {
   "cell_type": "code",
   "execution_count": 4,
   "metadata": {},
   "outputs": [
    {
     "name": "stdout",
     "output_type": "stream",
     "text": [
      "apple\n",
      "orange\n",
      "carrot\n",
      "cabbage\n",
      "chicken\n",
      "beef\n"
     ]
    }
   ],
   "source": [
    "for element in [[\"apple\", \"orange\"], [\"carrot\", \"cabbage\"], [\"chicken\", \"beef\"]] :\n",
    "    for item in element:\n",
    "        print(item)"
   ]
  },
  {
   "cell_type": "markdown",
   "metadata": {},
   "source": [
    "D. Using the same input list of lists as above modify create new code so it prints the following output:\n",
    "```\n",
    "apple\n",
    "carrot\n",
    "chicken\n",
    "orange\n",
    "cabbage\n",
    "beef\n",
    "```"
   ]
  },
  {
   "cell_type": "code",
   "execution_count": 7,
   "metadata": {},
   "outputs": [
    {
     "name": "stdout",
     "output_type": "stream",
     "text": [
      "apple\n",
      "carrot\n",
      "chicken\n",
      "orange\n",
      "cabbage\n",
      "beef\n"
     ]
    }
   ],
   "source": [
    "for idx in [0,1]:\n",
    "    for element in [[\"apple\", \"orange\"], [\"carrot\", \"cabbage\"], [\"chicken\", \"beef\"]]:\n",
    "        print(element[idx])"
   ]
  },
  {
   "cell_type": "markdown",
   "metadata": {},
   "source": [
    "E. Write a for loop to print the first 20 even numbers starting at 0 (hint: use range())."
   ]
  },
  {
   "cell_type": "code",
   "execution_count": 8,
   "metadata": {},
   "outputs": [
    {
     "name": "stdout",
     "output_type": "stream",
     "text": [
      "0\n",
      "2\n",
      "4\n",
      "6\n",
      "8\n",
      "10\n",
      "12\n",
      "14\n",
      "16\n",
      "18\n",
      "20\n",
      "22\n",
      "24\n",
      "26\n",
      "28\n",
      "30\n",
      "32\n",
      "34\n",
      "36\n",
      "38\n"
     ]
    }
   ],
   "source": [
    "for even in range(0,40,2):\n",
    "    print(even)"
   ]
  },
  {
   "cell_type": "markdown",
   "metadata": {},
   "source": [
    "F. Write a for loop to print the first 20 odd numbers starting at 101, but print them in descending order."
   ]
  },
  {
   "cell_type": "code",
   "execution_count": 28,
   "metadata": {},
   "outputs": [
    {
     "name": "stdout",
     "output_type": "stream",
     "text": [
      "139\n",
      "137\n",
      "135\n",
      "133\n",
      "131\n",
      "129\n",
      "127\n",
      "125\n",
      "123\n",
      "121\n",
      "119\n",
      "117\n",
      "115\n",
      "113\n",
      "111\n",
      "109\n",
      "107\n",
      "105\n",
      "103\n",
      "101\n"
     ]
    }
   ],
   "source": [
    "odd_list = [odd for odd in range(101,141,2)]\n",
    "odd_list.sort(reverse=True)\n",
    "for odd in odd_list:\n",
    "    print(odd)"
   ]
  },
  {
   "cell_type": "markdown",
   "metadata": {},
   "source": [
    "G. Using what you have learned in the previous exercises, write code to take a the following \n",
    "DNA sequence and print only the bases with even index. For example if the\n",
    "input sequence is \"GCACGG\" the output should be \"GAG\" (remembering that 0 is also even)."
   ]
  },
  {
   "cell_type": "code",
   "execution_count": 29,
   "metadata": {},
   "outputs": [],
   "source": [
    "seq = \"\"\"\n",
    ">Calumma_boettgeri_voucher_FGZC_462\n",
    "GGAAGTATTAACCAGACACAACTACGAAAACTAATGGCCTACTCATCAATTACTAACC\n",
    "TAGGGTGGACAATAATTATTTTCACAACCGCACCACACATTGCTACACTAAACATTAT\n",
    "TATCTACATAATTATACTCATCCCACTATTCATACTCATTAAAAAAATATCTATAAAA\n",
    "ACACTGCGAGACTCAACAACTACATGAACTACGTCCCCGATAGCAAACACCCTACTAA\n",
    "TGCTAATACTTCTGTCACTAAGTGGTCTTCCCCCCCTCACAGGTTTCACCCCAAAACT\n",
    "TTTAATTTTAAACGAACTAATTTTACAAAATTTAACACCCGCTGCAACAATAATAGCC\n",
    "ATACTATCTCTAATTGGACTATTTTTTTATATCCGAACAAC\n",
    "\"\"\""
   ]
  },
  {
   "cell_type": "code",
   "execution_count": 40,
   "metadata": {},
   "outputs": [
    {
     "name": "stdout",
     "output_type": "stream",
     "text": [
      "GAGATACGCCATCAACATGCATACATCACTGGGAATATTTCCACCCAAATCAATACTATTTCTATTCCTCATTCTCCTAAAAACAAAAATCAATACATCTACAGCCGTGAAACTCATCATCTTTATATGCTCCCTAAGTCCCAACTTATTACACATTAAATTAACGTCAATAACAATTTTATGCATTTAACGAAC\n"
     ]
    }
   ],
   "source": [
    "dna = \"\"\n",
    "for line in seq.strip().split(\"\\n\"):\n",
    "    if line[0] != \">\":\n",
    "        dna+=line\n",
    "\n",
    "output_dna = \"\"\n",
    "for idx in range(0,len(dna),2):\n",
    "    output_dna+=dna[idx]\n",
    "print(output_dna)"
   ]
  },
  {
   "cell_type": "code",
   "execution_count": null,
   "metadata": {},
   "outputs": [],
   "source": []
  }
 ],
 "metadata": {
  "kernelspec": {
   "display_name": "Python 3 (ipykernel)",
   "language": "python",
   "name": "python3"
  },
  "language_info": {
   "codemirror_mode": {
    "name": "ipython",
    "version": 3
   },
   "file_extension": ".py",
   "mimetype": "text/x-python",
   "name": "python",
   "nbconvert_exporter": "python",
   "pygments_lexer": "ipython3",
   "version": "3.9.9"
  }
 },
 "nbformat": 4,
 "nbformat_minor": 4
}
